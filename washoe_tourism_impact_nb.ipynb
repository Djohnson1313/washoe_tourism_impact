{
 "cells": [
  {
   "cell_type": "markdown",
   "id": "b81d7545-884d-4c1c-8751-0c3c39e7aa47",
   "metadata": {},
   "source": [
    "# Washoe Tourism Impact"
   ]
  },
  {
   "cell_type": "markdown",
   "id": "46627412-dae2-4580-96ee-d069bfdc758d",
   "metadata": {},
   "source": [
    "---\n",
    "## Sources and Links\n",
    "\n",
    "Dataset : [NevadaTomrrow.org](https://www.nevadatomorrow.org/indicators/index/view?indicatorId=14201&localeId=1813)"
   ]
  },
  {
   "cell_type": "markdown",
   "id": "be4a9da6-eedb-4960-8cf0-700924dfb829",
   "metadata": {},
   "source": [
    "---\n",
    "## Overview\n",
    "\n",
    "- title\n",
    "- sources and links\n",
    "- imports\n",
    "- business understanding\n",
    "- methodoligy\n",
    "- functions\n",
    "- exploritory data analysis"
   ]
  },
  {
   "cell_type": "markdown",
   "id": "3397b897-672e-479d-a4c9-8c8dff315f8b",
   "metadata": {},
   "source": [
    "---\n",
    "## Imports"
   ]
  },
  {
   "cell_type": "code",
   "execution_count": 1,
   "id": "535866e0-34bd-4313-9fdd-4b97392cd1d4",
   "metadata": {},
   "outputs": [],
   "source": [
    "import pandas as pd\n",
    "import matplotlib.pyplot as plt\n",
    "import numpy as np"
   ]
  },
  {
   "cell_type": "code",
   "execution_count": 2,
   "id": "e73fde0a-de0d-42a7-bb0d-a48d227bd2c9",
   "metadata": {},
   "outputs": [],
   "source": [
    "df = pd.read_csv('indicator_data_download_20250626.csv')"
   ]
  },
  {
   "cell_type": "markdown",
   "id": "0e345581-55dd-4798-9877-ccd92ad0568a",
   "metadata": {},
   "source": [
    "---\n",
    "## Business Understanding"
   ]
  },
  {
   "cell_type": "markdown",
   "id": "750d1101-9c5c-4a88-8300-532f82061e9a",
   "metadata": {},
   "source": [
    "---\n",
    "## Methodoligy"
   ]
  },
  {
   "cell_type": "markdown",
   "id": "9b9a5197-723b-445c-a1de-07aba3b7b96f",
   "metadata": {},
   "source": [
    "---\n",
    "## Functions"
   ]
  },
  {
   "cell_type": "code",
   "execution_count": 3,
   "id": "7e865850-fe9c-41d2-aa0e-630ec68e3d24",
   "metadata": {},
   "outputs": [],
   "source": [
    "def totals_by_year(df, col, val):\n",
    "\n",
    "    totals_by_year = {}\n",
    "\n",
    "    for ind, row in df.iterrows():\n",
    "        year = row[col]\n",
    "        value = row[val]\n",
    "\n",
    "        if year in totals_by_year:\n",
    "            totals_by_year[year] += value\n",
    "        else:\n",
    "            totals_by_year[year] = value\n",
    "\n",
    "    yearly_totals = pd.DataFrame(list(totals_by_year.items()), columns = ['year', 'value'])\n",
    "    yearly_totals_ = yearly_totals.sort_values(by = 'year', ascending = True)\n",
    "    \n",
    "    fig, ax = plt.subplots()\n",
    "    \n",
    "    yearly_totals_.plot(x = 'year', y = 'value', kind = 'bar', ax = ax)\n",
    "\n",
    "    ax.get_yaxis().set_major_formatter(\n",
    "    plt.FuncFormatter(lambda x, p: format(int(x), ','))) # format labels\n",
    "\n",
    "    ax.set_title(f'{val} Per Year')\n",
    "    ax.set_ylabel('Value')\n",
    "    \n",
    "    return yearly_totals_"
   ]
  },
  {
   "cell_type": "code",
   "execution_count": 4,
   "id": "8478d1d2-f0e9-4764-bc1c-9827853c1c98",
   "metadata": {},
   "outputs": [],
   "source": [
    "def get_year_avg(start, end, col, val, df):\n",
    "    mask = (df[col] >= start) & (df[col] <= end)\n",
    "    filter = df.loc[mask, val]\n",
    "\n",
    "    return round(filter.mean(), 2)   "
   ]
  },
  {
   "cell_type": "code",
   "execution_count": 5,
   "id": "ab49f192-c54f-4dfa-90e4-785997bcb82e",
   "metadata": {},
   "outputs": [],
   "source": [
    "def get_yoy(start, end, col, val, df):\n",
    "    mask = (df[col] >= start) & (df[col] <= end)\n",
    "    filter = df.loc[mask].copy()\n",
    "\n",
    "    filter.sort_values(col, inplace = True)\n",
    "    filter.reset_index(drop = True, inplace = True)\n",
    "\n",
    "    g_rate = []\n",
    "    for i in range(1, len(filter)):\n",
    "        prev_val = filter.loc[i - 1, val]\n",
    "        curr_val = filter.loc[i, val]\n",
    "        curr_year = filter.loc[i, col]\n",
    "\n",
    "        if curr_year < start:\n",
    "            continue\n",
    "\n",
    "        if prev_val == 0:\n",
    "            continue\n",
    "\n",
    "        g = (curr_val - prev_val) / prev_val\n",
    "        g_rate.append(g)\n",
    "    if not g_rate:\n",
    "        return None\n",
    "    yoy = round(sum(g_rate) / len(g_rate), 3)\n",
    "    yoy_p = round(yoy * 100, 2)\n",
    "\n",
    "    return f'Between the years of {start} and {end}, the Year Over Year value is {yoy} or {yoy_p}%'"
   ]
  },
  {
   "cell_type": "code",
   "execution_count": 6,
   "id": "cde67343-081d-4f6d-8780-30e091ea0a2a",
   "metadata": {},
   "outputs": [],
   "source": [
    "def top_cat_per_year(df):\n",
    "\n",
    "    df['Breakout Rate Value'] = pd.to_numeric(df['Breakout Rate Value'], errors = 'coerce')\n",
    "    df_ = df.dropna(subset = ['Period of Measure', 'Breakout Subcategory', 'Breakout Rate Value'])\n",
    "    \n",
    "    highest_per_year = {}\n",
    "\n",
    "    for year in df_['Period of Measure'].unique():\n",
    "        year_df = df_[df_['Period of Measure'] == year]\n",
    "\n",
    "        cat_totals = year_df.groupby('Breakout Subcategory')['Breakout Rate Value'].sum()\n",
    "\n",
    "        top_cat = cat_totals.idxmax()\n",
    "        top_val = cat_totals.max()\n",
    "\n",
    "        highest_per_year[year] = (top_cat, top_val)\n",
    "\n",
    "    data = [\n",
    "    {\"Year\": year, \"Top Category\": category, \"Top Value\": value}\n",
    "    for year, (category, value) in highest_per_year.items()]\n",
    "    df_top = pd.DataFrame(data)\n",
    "    df_top = df_top.sort_values(\"Top Value\", ascending = False).reset_index(drop=True)\n",
    "\n",
    "    fig, ax = plt.subplots()\n",
    "    df_top.plot(x = 'Year', y = 'Top Value', kind = 'barh', ax=ax)\n",
    "\n",
    "    ax.set_title('Top Spendig Each Year Per Category')\n",
    "    ax.set_xlabel('Total Spending (in millions)')\n",
    "    \n",
    "    return df_top.sort_values('Top Value', ascending = True)"
   ]
  },
  {
   "cell_type": "code",
   "execution_count": 7,
   "id": "14535631-2a09-415c-a764-f9d0aedd3e2b",
   "metadata": {},
   "outputs": [],
   "source": [
    "def subcat_counter(year, df):\n",
    "\n",
    "    df_y = df[df['Period of Measure'] == year]\n",
    "\n",
    "    count = {}\n",
    "    \n",
    "    for ind, row in df_y.iterrows():\n",
    "        sub = row['Breakout Subcategory']\n",
    "        val = row['Breakout Rate Value']\n",
    "        \n",
    "        if sub in count:\n",
    "            count[sub] += val\n",
    "        else:\n",
    "            count[sub] = val\n",
    "\n",
    "    sub_totals = pd.DataFrame(list(count.items()), columns = ['sub-category', 'values'])\n",
    "    sub_totals = sub_totals.sort_values(by = 'values', ascending = False)\n",
    "    fig, ax = plt.subplots()\n",
    "\n",
    "    sub_totals.plot(x = 'sub-category', y = 'values', kind = 'barh', ax=ax)\n",
    "\n",
    "    ax.set_title(f'Category Spending for the year of {year}')\n",
    "    ax.set_xlabel('Total Spent (in millions)')\n",
    "\n",
    "    return sub_totals.sort_values(by = 'values', ascending = True)"
   ]
  },
  {
   "cell_type": "markdown",
   "id": "9cf19323-7ef6-438d-8268-5a1326fad1f1",
   "metadata": {},
   "source": [
    "---\n",
    "## Exploritory Data Alalysis (EDA)"
   ]
  },
  {
   "cell_type": "code",
   "execution_count": 8,
   "id": "1cec5cb8-0579-4a0e-ac4c-2fd12bcb6022",
   "metadata": {},
   "outputs": [
    {
     "data": {
      "text/html": [
       "<div>\n",
       "<style scoped>\n",
       "    .dataframe tbody tr th:only-of-type {\n",
       "        vertical-align: middle;\n",
       "    }\n",
       "\n",
       "    .dataframe tbody tr th {\n",
       "        vertical-align: top;\n",
       "    }\n",
       "\n",
       "    .dataframe thead th {\n",
       "        text-align: right;\n",
       "    }\n",
       "</style>\n",
       "<table border=\"1\" class=\"dataframe\">\n",
       "  <thead>\n",
       "    <tr style=\"text-align: right;\">\n",
       "      <th></th>\n",
       "      <th>Indicator Name</th>\n",
       "      <th>What Is This Indicator</th>\n",
       "      <th>Location Type</th>\n",
       "      <th>Location</th>\n",
       "      <th>Indicator Rate Value</th>\n",
       "      <th>Indicator Rate Value Units</th>\n",
       "      <th>Rate Lower Confidence Interval</th>\n",
       "      <th>Rate Upper Confidence Interval</th>\n",
       "      <th>Indicator Count Value</th>\n",
       "      <th>Indicator Count Value Units</th>\n",
       "      <th>...</th>\n",
       "      <th>Breakout Rate Value</th>\n",
       "      <th>Breakout Rate Value Units</th>\n",
       "      <th>Breakout Rate Lower Confidence Interval</th>\n",
       "      <th>Breakout Rate Upper Confidence Interval</th>\n",
       "      <th>Breakout Count Value</th>\n",
       "      <th>Breakout Count Value Units</th>\n",
       "      <th>Breakout Count Lower Confidence Interval</th>\n",
       "      <th>Breakout Count Upper Confidence Interval</th>\n",
       "      <th>Breakout Unstable</th>\n",
       "      <th>Breakout Footer</th>\n",
       "    </tr>\n",
       "  </thead>\n",
       "  <tbody>\n",
       "    <tr>\n",
       "      <th>0</th>\n",
       "      <td>Tourism Economic Impact</td>\n",
       "      <td>The economic impact of visitor spending activi...</td>\n",
       "      <td>County</td>\n",
       "      <td>Washoe</td>\n",
       "      <td>3325.1</td>\n",
       "      <td>Million Dollars</td>\n",
       "      <td>NaN</td>\n",
       "      <td>NaN</td>\n",
       "      <td>NaN</td>\n",
       "      <td>NaN</td>\n",
       "      <td>...</td>\n",
       "      <td>556.7</td>\n",
       "      <td>Million Dollars</td>\n",
       "      <td>NaN</td>\n",
       "      <td>NaN</td>\n",
       "      <td>NaN</td>\n",
       "      <td>NaN</td>\n",
       "      <td>NaN</td>\n",
       "      <td>NaN</td>\n",
       "      <td>No</td>\n",
       "      <td>NaN</td>\n",
       "    </tr>\n",
       "    <tr>\n",
       "      <th>1</th>\n",
       "      <td>Tourism Economic Impact</td>\n",
       "      <td>The economic impact of visitor spending activi...</td>\n",
       "      <td>County</td>\n",
       "      <td>Washoe</td>\n",
       "      <td>3325.1</td>\n",
       "      <td>Million Dollars</td>\n",
       "      <td>NaN</td>\n",
       "      <td>NaN</td>\n",
       "      <td>NaN</td>\n",
       "      <td>NaN</td>\n",
       "      <td>...</td>\n",
       "      <td>717.1</td>\n",
       "      <td>Million Dollars</td>\n",
       "      <td>NaN</td>\n",
       "      <td>NaN</td>\n",
       "      <td>NaN</td>\n",
       "      <td>NaN</td>\n",
       "      <td>NaN</td>\n",
       "      <td>NaN</td>\n",
       "      <td>No</td>\n",
       "      <td>NaN</td>\n",
       "    </tr>\n",
       "    <tr>\n",
       "      <th>2</th>\n",
       "      <td>Tourism Economic Impact</td>\n",
       "      <td>The economic impact of visitor spending activi...</td>\n",
       "      <td>County</td>\n",
       "      <td>Washoe</td>\n",
       "      <td>3325.1</td>\n",
       "      <td>Million Dollars</td>\n",
       "      <td>NaN</td>\n",
       "      <td>NaN</td>\n",
       "      <td>NaN</td>\n",
       "      <td>NaN</td>\n",
       "      <td>...</td>\n",
       "      <td>550.0</td>\n",
       "      <td>Million Dollars</td>\n",
       "      <td>NaN</td>\n",
       "      <td>NaN</td>\n",
       "      <td>NaN</td>\n",
       "      <td>NaN</td>\n",
       "      <td>NaN</td>\n",
       "      <td>NaN</td>\n",
       "      <td>No</td>\n",
       "      <td>NaN</td>\n",
       "    </tr>\n",
       "    <tr>\n",
       "      <th>3</th>\n",
       "      <td>Tourism Economic Impact</td>\n",
       "      <td>The economic impact of visitor spending activi...</td>\n",
       "      <td>County</td>\n",
       "      <td>Washoe</td>\n",
       "      <td>3325.1</td>\n",
       "      <td>Million Dollars</td>\n",
       "      <td>NaN</td>\n",
       "      <td>NaN</td>\n",
       "      <td>NaN</td>\n",
       "      <td>NaN</td>\n",
       "      <td>...</td>\n",
       "      <td>497.5</td>\n",
       "      <td>Million Dollars</td>\n",
       "      <td>NaN</td>\n",
       "      <td>NaN</td>\n",
       "      <td>NaN</td>\n",
       "      <td>NaN</td>\n",
       "      <td>NaN</td>\n",
       "      <td>NaN</td>\n",
       "      <td>No</td>\n",
       "      <td>NaN</td>\n",
       "    </tr>\n",
       "    <tr>\n",
       "      <th>4</th>\n",
       "      <td>Tourism Economic Impact</td>\n",
       "      <td>The economic impact of visitor spending activi...</td>\n",
       "      <td>County</td>\n",
       "      <td>Washoe</td>\n",
       "      <td>3325.1</td>\n",
       "      <td>Million Dollars</td>\n",
       "      <td>NaN</td>\n",
       "      <td>NaN</td>\n",
       "      <td>NaN</td>\n",
       "      <td>NaN</td>\n",
       "      <td>...</td>\n",
       "      <td>616.2</td>\n",
       "      <td>Million Dollars</td>\n",
       "      <td>NaN</td>\n",
       "      <td>NaN</td>\n",
       "      <td>NaN</td>\n",
       "      <td>NaN</td>\n",
       "      <td>NaN</td>\n",
       "      <td>NaN</td>\n",
       "      <td>No</td>\n",
       "      <td>NaN</td>\n",
       "    </tr>\n",
       "  </tbody>\n",
       "</table>\n",
       "<p>5 rows × 29 columns</p>\n",
       "</div>"
      ],
      "text/plain": [
       "            Indicator Name                             What Is This Indicator  \\\n",
       "0  Tourism Economic Impact  The economic impact of visitor spending activi...   \n",
       "1  Tourism Economic Impact  The economic impact of visitor spending activi...   \n",
       "2  Tourism Economic Impact  The economic impact of visitor spending activi...   \n",
       "3  Tourism Economic Impact  The economic impact of visitor spending activi...   \n",
       "4  Tourism Economic Impact  The economic impact of visitor spending activi...   \n",
       "\n",
       "  Location Type Location  Indicator Rate Value Indicator Rate Value Units  \\\n",
       "0        County   Washoe                3325.1            Million Dollars   \n",
       "1        County   Washoe                3325.1            Million Dollars   \n",
       "2        County   Washoe                3325.1            Million Dollars   \n",
       "3        County   Washoe                3325.1            Million Dollars   \n",
       "4        County   Washoe                3325.1            Million Dollars   \n",
       "\n",
       "   Rate Lower Confidence Interval  Rate Upper Confidence Interval  \\\n",
       "0                             NaN                             NaN   \n",
       "1                             NaN                             NaN   \n",
       "2                             NaN                             NaN   \n",
       "3                             NaN                             NaN   \n",
       "4                             NaN                             NaN   \n",
       "\n",
       "   Indicator Count Value  Indicator Count Value Units  ...  \\\n",
       "0                    NaN                          NaN  ...   \n",
       "1                    NaN                          NaN  ...   \n",
       "2                    NaN                          NaN  ...   \n",
       "3                    NaN                          NaN  ...   \n",
       "4                    NaN                          NaN  ...   \n",
       "\n",
       "   Breakout Rate Value  Breakout Rate Value Units  \\\n",
       "0                556.7            Million Dollars   \n",
       "1                717.1            Million Dollars   \n",
       "2                550.0            Million Dollars   \n",
       "3                497.5            Million Dollars   \n",
       "4                616.2            Million Dollars   \n",
       "\n",
       "  Breakout Rate Lower Confidence Interval  \\\n",
       "0                                     NaN   \n",
       "1                                     NaN   \n",
       "2                                     NaN   \n",
       "3                                     NaN   \n",
       "4                                     NaN   \n",
       "\n",
       "   Breakout Rate Upper Confidence Interval Breakout Count Value  \\\n",
       "0                                      NaN                  NaN   \n",
       "1                                      NaN                  NaN   \n",
       "2                                      NaN                  NaN   \n",
       "3                                      NaN                  NaN   \n",
       "4                                      NaN                  NaN   \n",
       "\n",
       "  Breakout Count Value Units Breakout Count Lower Confidence Interval  \\\n",
       "0                        NaN                                      NaN   \n",
       "1                        NaN                                      NaN   \n",
       "2                        NaN                                      NaN   \n",
       "3                        NaN                                      NaN   \n",
       "4                        NaN                                      NaN   \n",
       "\n",
       "  Breakout Count Upper Confidence Interval Breakout Unstable  Breakout Footer  \n",
       "0                                      NaN                No              NaN  \n",
       "1                                      NaN                No              NaN  \n",
       "2                                      NaN                No              NaN  \n",
       "3                                      NaN                No              NaN  \n",
       "4                                      NaN                No              NaN  \n",
       "\n",
       "[5 rows x 29 columns]"
      ]
     },
     "execution_count": 8,
     "metadata": {},
     "output_type": "execute_result"
    }
   ],
   "source": [
    "df.head()"
   ]
  },
  {
   "cell_type": "code",
   "execution_count": 9,
   "id": "38d6c01f-0a23-4505-9bb8-c8f0ba912eb9",
   "metadata": {},
   "outputs": [
    {
     "name": "stdout",
     "output_type": "stream",
     "text": [
      "<class 'pandas.core.frame.DataFrame'>\n",
      "RangeIndex: 25 entries, 0 to 24\n",
      "Data columns (total 29 columns):\n",
      " #   Column                                    Non-Null Count  Dtype  \n",
      "---  ------                                    --------------  -----  \n",
      " 0   Indicator Name                            25 non-null     object \n",
      " 1   What Is This Indicator                    25 non-null     object \n",
      " 2   Location Type                             25 non-null     object \n",
      " 3   Location                                  25 non-null     object \n",
      " 4   Indicator Rate Value                      25 non-null     float64\n",
      " 5   Indicator Rate Value Units                25 non-null     object \n",
      " 6   Rate Lower Confidence Interval            0 non-null      float64\n",
      " 7   Rate Upper Confidence Interval            0 non-null      float64\n",
      " 8   Indicator Count Value                     0 non-null      float64\n",
      " 9   Indicator Count Value Units               0 non-null      float64\n",
      " 10  Count Lower Confidence Interval           0 non-null      float64\n",
      " 11  Count Upper Confidence Interval           0 non-null      float64\n",
      " 12  Indicator Value Unstable                  25 non-null     object \n",
      " 13  Period of Measure                         25 non-null     int64  \n",
      " 14  Data Source                               25 non-null     object \n",
      " 15  Technical Note                            25 non-null     object \n",
      " 16  Breakout Title                            18 non-null     object \n",
      " 17  Breakout Category                         18 non-null     object \n",
      " 18  Breakout Subcategory                      18 non-null     object \n",
      " 19  Breakout Rate Value                       18 non-null     float64\n",
      " 20  Breakout Rate Value Units                 18 non-null     object \n",
      " 21  Breakout Rate Lower Confidence Interval   0 non-null      float64\n",
      " 22  Breakout Rate Upper Confidence Interval   0 non-null      float64\n",
      " 23  Breakout Count Value                      0 non-null      float64\n",
      " 24  Breakout Count Value Units                0 non-null      float64\n",
      " 25  Breakout Count Lower Confidence Interval  0 non-null      float64\n",
      " 26  Breakout Count Upper Confidence Interval  0 non-null      float64\n",
      " 27  Breakout Unstable                         18 non-null     object \n",
      " 28  Breakout Footer                           0 non-null      float64\n",
      "dtypes: float64(15), int64(1), object(13)\n",
      "memory usage: 5.8+ KB\n"
     ]
    }
   ],
   "source": [
    "df.info()"
   ]
  },
  {
   "cell_type": "code",
   "execution_count": 10,
   "id": "c2036ab1-cbbf-40e2-9565-d99c3bfaa1c6",
   "metadata": {},
   "outputs": [
    {
     "data": {
      "text/plain": [
       "What Is This Indicator\n",
       "The economic impact of visitor spending activities, including transport, retail, food and beverage, recreation, gaming, and lodging that ultimately increase tax revenues.    25\n",
       "Name: count, dtype: int64"
      ]
     },
     "execution_count": 10,
     "metadata": {},
     "output_type": "execute_result"
    }
   ],
   "source": [
    "df['What Is This Indicator'].value_counts()"
   ]
  },
  {
   "cell_type": "code",
   "execution_count": 11,
   "id": "d2405ce0-bca2-4162-bb18-e3cca18b5502",
   "metadata": {},
   "outputs": [
    {
     "data": {
      "text/plain": [
       "Indicator Name\n",
       "Tourism Economic Impact    25\n",
       "Name: count, dtype: int64"
      ]
     },
     "execution_count": 11,
     "metadata": {},
     "output_type": "execute_result"
    }
   ],
   "source": [
    "df['Indicator Name'].value_counts()"
   ]
  },
  {
   "cell_type": "code",
   "execution_count": 12,
   "id": "9cf5e22e-b369-4aac-8e9a-9723ff947172",
   "metadata": {},
   "outputs": [
    {
     "data": {
      "text/plain": [
       "Indicator Rate Value Units\n",
       "Million Dollars    25\n",
       "Name: count, dtype: int64"
      ]
     },
     "execution_count": 12,
     "metadata": {},
     "output_type": "execute_result"
    }
   ],
   "source": [
    "df['Indicator Rate Value Units'].value_counts()"
   ]
  },
  {
   "cell_type": "code",
   "execution_count": 13,
   "id": "47c1e04f-04d5-4d43-97ab-d9dbcca162f9",
   "metadata": {},
   "outputs": [
    {
     "data": {
      "text/plain": [
       "0    Food & beverage\n",
       "1             Gaming\n",
       "2            Lodging\n",
       "3         Recreation\n",
       "4             Retail\n",
       "Name: Breakout Subcategory, dtype: object"
      ]
     },
     "execution_count": 13,
     "metadata": {},
     "output_type": "execute_result"
    }
   ],
   "source": [
    "df['Breakout Subcategory'].head()"
   ]
  },
  {
   "cell_type": "code",
   "execution_count": 14,
   "id": "0f984397-ac6a-41c2-a15b-72227da9752d",
   "metadata": {
    "scrolled": true
   },
   "outputs": [
    {
     "data": {
      "text/plain": [
       "Period of Measure\n",
       "2023    6\n",
       "2022    6\n",
       "2021    6\n",
       "2020    1\n",
       "2019    1\n",
       "2018    1\n",
       "2017    1\n",
       "2016    1\n",
       "2015    1\n",
       "2014    1\n",
       "Name: count, dtype: int64"
      ]
     },
     "execution_count": 14,
     "metadata": {},
     "output_type": "execute_result"
    }
   ],
   "source": [
    "df['Period of Measure'].value_counts()"
   ]
  },
  {
   "cell_type": "markdown",
   "id": "c9bf9019-7292-4bb7-b3b6-5768c85bea99",
   "metadata": {},
   "source": [
    "## Trends and Growth"
   ]
  },
  {
   "cell_type": "code",
   "execution_count": 15,
   "id": "12e29cb9-fa91-4d49-aa91-ca479f408db1",
   "metadata": {},
   "outputs": [
    {
     "data": {
      "text/html": [
       "<div>\n",
       "<style scoped>\n",
       "    .dataframe tbody tr th:only-of-type {\n",
       "        vertical-align: middle;\n",
       "    }\n",
       "\n",
       "    .dataframe tbody tr th {\n",
       "        vertical-align: top;\n",
       "    }\n",
       "\n",
       "    .dataframe thead th {\n",
       "        text-align: right;\n",
       "    }\n",
       "</style>\n",
       "<table border=\"1\" class=\"dataframe\">\n",
       "  <thead>\n",
       "    <tr style=\"text-align: right;\">\n",
       "      <th></th>\n",
       "      <th>year</th>\n",
       "      <th>value</th>\n",
       "    </tr>\n",
       "  </thead>\n",
       "  <tbody>\n",
       "    <tr>\n",
       "      <th>9</th>\n",
       "      <td>2014</td>\n",
       "      <td>2428.4</td>\n",
       "    </tr>\n",
       "    <tr>\n",
       "      <th>8</th>\n",
       "      <td>2015</td>\n",
       "      <td>2547.6</td>\n",
       "    </tr>\n",
       "    <tr>\n",
       "      <th>7</th>\n",
       "      <td>2016</td>\n",
       "      <td>2662.2</td>\n",
       "    </tr>\n",
       "    <tr>\n",
       "      <th>6</th>\n",
       "      <td>2017</td>\n",
       "      <td>2747.6</td>\n",
       "    </tr>\n",
       "    <tr>\n",
       "      <th>5</th>\n",
       "      <td>2018</td>\n",
       "      <td>2831.4</td>\n",
       "    </tr>\n",
       "    <tr>\n",
       "      <th>4</th>\n",
       "      <td>2019</td>\n",
       "      <td>2925.5</td>\n",
       "    </tr>\n",
       "    <tr>\n",
       "      <th>3</th>\n",
       "      <td>2020</td>\n",
       "      <td>1919.1</td>\n",
       "    </tr>\n",
       "    <tr>\n",
       "      <th>2</th>\n",
       "      <td>2021</td>\n",
       "      <td>17032.8</td>\n",
       "    </tr>\n",
       "    <tr>\n",
       "      <th>1</th>\n",
       "      <td>2022</td>\n",
       "      <td>18787.2</td>\n",
       "    </tr>\n",
       "    <tr>\n",
       "      <th>0</th>\n",
       "      <td>2023</td>\n",
       "      <td>19950.6</td>\n",
       "    </tr>\n",
       "  </tbody>\n",
       "</table>\n",
       "</div>"
      ],
      "text/plain": [
       "   year    value\n",
       "9  2014   2428.4\n",
       "8  2015   2547.6\n",
       "7  2016   2662.2\n",
       "6  2017   2747.6\n",
       "5  2018   2831.4\n",
       "4  2019   2925.5\n",
       "3  2020   1919.1\n",
       "2  2021  17032.8\n",
       "1  2022  18787.2\n",
       "0  2023  19950.6"
      ]
     },
     "execution_count": 15,
     "metadata": {},
     "output_type": "execute_result"
    },
    {
     "data": {
      "image/png": "[encoded data removed]",
      "text/plain": [
       "<Figure size 640x480 with 1 Axes>"
      ]
     },
     "metadata": {},
     "output_type": "display_data"
    }
   ],
   "source": [
    "totals_by_year(df, 'Period of Measure', 'Indicator Rate Value')"
   ]
  },
  {
   "cell_type": "markdown",
   "id": "a935244c-998b-4983-896d-c7ba705c29b2",
   "metadata": {},
   "source": [
    "This plot paints a counterintuitive picture, with spending showing an increas of value duing the pandemic. While this makes sense for markets such as gaming (non casino gambling) due to people staying home and buying more games to pass the time, this doesn't make sense for tourism, as COVID-19 decimated tourism all throughout the world. This data could include indirect economic impact as well as delayed reporting from casinos and hotels as well as stimulus driven spending. This realization would require further data and research to come to a conclusion. "
   ]
  },
  {
   "cell_type": "code",
   "execution_count": 16,
   "id": "5969eaca-c4db-41e0-808c-a37a6687be27",
   "metadata": {},
   "outputs": [
    {
     "data": {
      "text/plain": [
       "2690.45"
      ]
     },
     "execution_count": 16,
     "metadata": {},
     "output_type": "execute_result"
    }
   ],
   "source": [
    "get_year_avg(2014, 2019, 'Period of Measure', 'Indicator Rate Value', df)"
   ]
  },
  {
   "cell_type": "code",
   "execution_count": 17,
   "id": "f3ce6c16-df3d-48a0-8855-3cc3a90db798",
   "metadata": {},
   "outputs": [
    {
     "data": {
      "text/plain": [
       "2422.3"
      ]
     },
     "execution_count": 17,
     "metadata": {},
     "output_type": "execute_result"
    }
   ],
   "source": [
    "get_year_avg(2019, 2020, 'Period of Measure', 'Indicator Rate Value', df)"
   ]
  },
  {
   "cell_type": "code",
   "execution_count": 18,
   "id": "2616bb9d-b794-4318-ba7f-2505610aa3a3",
   "metadata": {},
   "outputs": [
    {
     "data": {
      "text/plain": [
       "3098.37"
      ]
     },
     "execution_count": 18,
     "metadata": {},
     "output_type": "execute_result"
    }
   ],
   "source": [
    "get_year_avg(2021, 2023, 'Period of Measure', 'Indicator Rate Value', df)"
   ]
  },
  {
   "cell_type": "markdown",
   "id": "c61064c8-1279-4b26-8e9c-1803e2c5aca8",
   "metadata": {},
   "source": [
    "Here we can see the average spending across the years, with the average spending from 2014 to 2019 being 2690.45, with a drop in 2019 to 2020, and the major increase duing the pandemic up to 3098.37."
   ]
  },
  {
   "cell_type": "code",
   "execution_count": 19,
   "id": "36b90034-b8f7-4502-b3da-f8d229477acf",
   "metadata": {},
   "outputs": [
    {
     "data": {
      "text/plain": [
       "'Between the years of 2014 and 2019, the Year Over Year value is 0.038 or 3.8%'"
      ]
     },
     "execution_count": 19,
     "metadata": {},
     "output_type": "execute_result"
    }
   ],
   "source": [
    "get_yoy(2014, 2019, 'Period of Measure', 'Indicator Rate Value', df)"
   ]
  },
  {
   "cell_type": "code",
   "execution_count": 20,
   "id": "b8edd82e-2fcb-4343-8cdd-9a615b76a69d",
   "metadata": {},
   "outputs": [
    {
     "data": {
      "text/plain": [
       "'Between the years of 2020 and 2021, the Year Over Year value is 0.08 or 8.0%'"
      ]
     },
     "execution_count": 20,
     "metadata": {},
     "output_type": "execute_result"
    }
   ],
   "source": [
    "get_yoy(2020, 2021, 'Period of Measure', 'Indicator Rate Value', df)"
   ]
  },
  {
   "cell_type": "markdown",
   "id": "162536b4-cf42-4884-b370-cc52f254b051",
   "metadata": {},
   "source": [
    "Year Over Year compares data from one time frame to another, giving insight into performance gains or losses. From 2014 to 2019, there was a YoY increase of 3.8%, with a huge increase of 8% from 2020 to 2021."
   ]
  },
  {
   "cell_type": "markdown",
   "id": "c3fe5604-6173-4aeb-83a5-7f51a10926f0",
   "metadata": {},
   "source": [
    "## Spending per Category"
   ]
  },
  {
   "cell_type": "code",
   "execution_count": 21,
   "id": "64ed1efd-a4cc-4821-8aec-805affc16a33",
   "metadata": {},
   "outputs": [
    {
     "data": {
      "text/plain": [
       "Breakout Subcategory\n",
       "Food & beverage    3\n",
       "Gaming             3\n",
       "Lodging            3\n",
       "Recreation         3\n",
       "Retail             3\n",
       "Transport          3\n",
       "Name: count, dtype: int64"
      ]
     },
     "execution_count": 21,
     "metadata": {},
     "output_type": "execute_result"
    }
   ],
   "source": [
    "df['Breakout Subcategory'].value_counts()"
   ]
  },
  {
   "cell_type": "code",
   "execution_count": 22,
   "id": "6480cbe5-394f-4ee6-8ece-1a66442da876",
   "metadata": {},
   "outputs": [
    {
     "data": {
      "text/html": [
       "<div>\n",
       "<style scoped>\n",
       "    .dataframe tbody tr th:only-of-type {\n",
       "        vertical-align: middle;\n",
       "    }\n",
       "\n",
       "    .dataframe tbody tr th {\n",
       "        vertical-align: top;\n",
       "    }\n",
       "\n",
       "    .dataframe thead th {\n",
       "        text-align: right;\n",
       "    }\n",
       "</style>\n",
       "<table border=\"1\" class=\"dataframe\">\n",
       "  <thead>\n",
       "    <tr style=\"text-align: right;\">\n",
       "      <th></th>\n",
       "      <th>sub-category</th>\n",
       "      <th>values</th>\n",
       "    </tr>\n",
       "  </thead>\n",
       "  <tbody>\n",
       "    <tr>\n",
       "      <th>5</th>\n",
       "      <td>Transport</td>\n",
       "      <td>282.6</td>\n",
       "    </tr>\n",
       "    <tr>\n",
       "      <th>3</th>\n",
       "      <td>Recreation</td>\n",
       "      <td>365.4</td>\n",
       "    </tr>\n",
       "    <tr>\n",
       "      <th>0</th>\n",
       "      <td>Food &amp; beverage</td>\n",
       "      <td>448.9</td>\n",
       "    </tr>\n",
       "    <tr>\n",
       "      <th>2</th>\n",
       "      <td>Lodging</td>\n",
       "      <td>490.9</td>\n",
       "    </tr>\n",
       "    <tr>\n",
       "      <th>4</th>\n",
       "      <td>Retail</td>\n",
       "      <td>552.7</td>\n",
       "    </tr>\n",
       "    <tr>\n",
       "      <th>1</th>\n",
       "      <td>Gaming</td>\n",
       "      <td>698.3</td>\n",
       "    </tr>\n",
       "  </tbody>\n",
       "</table>\n",
       "</div>"
      ],
      "text/plain": [
       "      sub-category  values\n",
       "5        Transport   282.6\n",
       "3       Recreation   365.4\n",
       "0  Food & beverage   448.9\n",
       "2          Lodging   490.9\n",
       "4           Retail   552.7\n",
       "1           Gaming   698.3"
      ]
     },
     "execution_count": 22,
     "metadata": {},
     "output_type": "execute_result"
    },
    {
     "data": {
      "image/png": "[encoded data removed]",
      "text/plain": [
       "<Figure size 640x480 with 1 Axes>"
      ]
     },
     "metadata": {},
     "output_type": "display_data"
    }
   ],
   "source": [
    "subcat_counter(2021, df)"
   ]
  },
  {
   "cell_type": "code",
   "execution_count": 23,
   "id": "7a3059f1-0b9f-499f-957c-80c0fb0afa3d",
   "metadata": {},
   "outputs": [
    {
     "data": {
      "text/html": [
       "<div>\n",
       "<style scoped>\n",
       "    .dataframe tbody tr th:only-of-type {\n",
       "        vertical-align: middle;\n",
       "    }\n",
       "\n",
       "    .dataframe tbody tr th {\n",
       "        vertical-align: top;\n",
       "    }\n",
       "\n",
       "    .dataframe thead th {\n",
       "        text-align: right;\n",
       "    }\n",
       "</style>\n",
       "<table border=\"1\" class=\"dataframe\">\n",
       "  <thead>\n",
       "    <tr style=\"text-align: right;\">\n",
       "      <th></th>\n",
       "      <th>sub-category</th>\n",
       "      <th>values</th>\n",
       "    </tr>\n",
       "  </thead>\n",
       "  <tbody>\n",
       "    <tr>\n",
       "      <th>5</th>\n",
       "      <td>Transport</td>\n",
       "      <td>349.9</td>\n",
       "    </tr>\n",
       "    <tr>\n",
       "      <th>3</th>\n",
       "      <td>Recreation</td>\n",
       "      <td>429.3</td>\n",
       "    </tr>\n",
       "    <tr>\n",
       "      <th>0</th>\n",
       "      <td>Food &amp; beverage</td>\n",
       "      <td>521.9</td>\n",
       "    </tr>\n",
       "    <tr>\n",
       "      <th>2</th>\n",
       "      <td>Lodging</td>\n",
       "      <td>526.0</td>\n",
       "    </tr>\n",
       "    <tr>\n",
       "      <th>4</th>\n",
       "      <td>Retail</td>\n",
       "      <td>585.0</td>\n",
       "    </tr>\n",
       "    <tr>\n",
       "      <th>1</th>\n",
       "      <td>Gaming</td>\n",
       "      <td>719.1</td>\n",
       "    </tr>\n",
       "  </tbody>\n",
       "</table>\n",
       "</div>"
      ],
      "text/plain": [
       "      sub-category  values\n",
       "5        Transport   349.9\n",
       "3       Recreation   429.3\n",
       "0  Food & beverage   521.9\n",
       "2          Lodging   526.0\n",
       "4           Retail   585.0\n",
       "1           Gaming   719.1"
      ]
     },
     "execution_count": 23,
     "metadata": {},
     "output_type": "execute_result"
    },
    {
     "data": {
      "image/png": "[encoded data removed]",
      "text/plain": [
       "<Figure size 640x480 with 1 Axes>"
      ]
     },
     "metadata": {},
     "output_type": "display_data"
    }
   ],
   "source": [
    "subcat_counter(2022, df)"
   ]
  },
  {
   "cell_type": "code",
   "execution_count": 24,
   "id": "47028739-2492-4fdf-9e56-3b0e8c7d5381",
   "metadata": {},
   "outputs": [
    {
     "data": {
      "text/html": [
       "<div>\n",
       "<style scoped>\n",
       "    .dataframe tbody tr th:only-of-type {\n",
       "        vertical-align: middle;\n",
       "    }\n",
       "\n",
       "    .dataframe tbody tr th {\n",
       "        vertical-align: top;\n",
       "    }\n",
       "\n",
       "    .dataframe thead th {\n",
       "        text-align: right;\n",
       "    }\n",
       "</style>\n",
       "<table border=\"1\" class=\"dataframe\">\n",
       "  <thead>\n",
       "    <tr style=\"text-align: right;\">\n",
       "      <th></th>\n",
       "      <th>sub-category</th>\n",
       "      <th>values</th>\n",
       "    </tr>\n",
       "  </thead>\n",
       "  <tbody>\n",
       "    <tr>\n",
       "      <th>5</th>\n",
       "      <td>Transport</td>\n",
       "      <td>387.6</td>\n",
       "    </tr>\n",
       "    <tr>\n",
       "      <th>3</th>\n",
       "      <td>Recreation</td>\n",
       "      <td>497.5</td>\n",
       "    </tr>\n",
       "    <tr>\n",
       "      <th>2</th>\n",
       "      <td>Lodging</td>\n",
       "      <td>550.0</td>\n",
       "    </tr>\n",
       "    <tr>\n",
       "      <th>0</th>\n",
       "      <td>Food &amp; beverage</td>\n",
       "      <td>556.7</td>\n",
       "    </tr>\n",
       "    <tr>\n",
       "      <th>4</th>\n",
       "      <td>Retail</td>\n",
       "      <td>616.2</td>\n",
       "    </tr>\n",
       "    <tr>\n",
       "      <th>1</th>\n",
       "      <td>Gaming</td>\n",
       "      <td>717.1</td>\n",
       "    </tr>\n",
       "  </tbody>\n",
       "</table>\n",
       "</div>"
      ],
      "text/plain": [
       "      sub-category  values\n",
       "5        Transport   387.6\n",
       "3       Recreation   497.5\n",
       "2          Lodging   550.0\n",
       "0  Food & beverage   556.7\n",
       "4           Retail   616.2\n",
       "1           Gaming   717.1"
      ]
     },
     "execution_count": 24,
     "metadata": {},
     "output_type": "execute_result"
    },
    {
     "data": {
      "image/png": "[encoded data removed]",
      "text/plain": [
       "<Figure size 640x480 with 1 Axes>"
      ]
     },
     "metadata": {},
     "output_type": "display_data"
    }
   ],
   "source": [
    "subcat_counter(2023, df)"
   ]
  },
  {
   "cell_type": "code",
   "execution_count": 25,
   "id": "cab27d42-a5ac-4c8e-9416-7d3b8ef0acaa",
   "metadata": {},
   "outputs": [
    {
     "data": {
      "text/html": [
       "<div>\n",
       "<style scoped>\n",
       "    .dataframe tbody tr th:only-of-type {\n",
       "        vertical-align: middle;\n",
       "    }\n",
       "\n",
       "    .dataframe tbody tr th {\n",
       "        vertical-align: top;\n",
       "    }\n",
       "\n",
       "    .dataframe thead th {\n",
       "        text-align: right;\n",
       "    }\n",
       "</style>\n",
       "<table border=\"1\" class=\"dataframe\">\n",
       "  <thead>\n",
       "    <tr style=\"text-align: right;\">\n",
       "      <th></th>\n",
       "      <th>Year</th>\n",
       "      <th>Top Category</th>\n",
       "      <th>Top Value</th>\n",
       "    </tr>\n",
       "  </thead>\n",
       "  <tbody>\n",
       "    <tr>\n",
       "      <th>2</th>\n",
       "      <td>2021</td>\n",
       "      <td>Gaming</td>\n",
       "      <td>698.3</td>\n",
       "    </tr>\n",
       "    <tr>\n",
       "      <th>1</th>\n",
       "      <td>2023</td>\n",
       "      <td>Gaming</td>\n",
       "      <td>717.1</td>\n",
       "    </tr>\n",
       "    <tr>\n",
       "      <th>0</th>\n",
       "      <td>2022</td>\n",
       "      <td>Gaming</td>\n",
       "      <td>719.1</td>\n",
       "    </tr>\n",
       "  </tbody>\n",
       "</table>\n",
       "</div>"
      ],
      "text/plain": [
       "   Year Top Category  Top Value\n",
       "2  2021       Gaming      698.3\n",
       "1  2023       Gaming      717.1\n",
       "0  2022       Gaming      719.1"
      ]
     },
     "execution_count": 25,
     "metadata": {},
     "output_type": "execute_result"
    },
    {
     "data": {
      "image/png": "[encoded data removed]",
      "text/plain": [
       "<Figure size 640x480 with 1 Axes>"
      ]
     },
     "metadata": {},
     "output_type": "display_data"
    }
   ],
   "source": [
    "top_cat_per_year(df)"
   ]
  },
  {
   "cell_type": "code",
   "execution_count": null,
   "id": "92a40e3f-5680-477b-b309-f68b346d7d0e",
   "metadata": {},
   "outputs": [],
   "source": []
  }
 ],
 "metadata": {
  "kernelspec": {
   "display_name": "Python 3 (ipykernel)",
   "language": "python",
   "name": "python3"
  },
  "language_info": {
   "codemirror_mode": {
    "name": "ipython",
    "version": 3
   },
   "file_extension": ".py",
   "mimetype": "text/x-python",
   "name": "python",
   "nbconvert_exporter": "python",
   "pygments_lexer": "ipython3",
   "version": "3.12.7"
  }
 },
 "nbformat": 4,
 "nbformat_minor": 5
}
