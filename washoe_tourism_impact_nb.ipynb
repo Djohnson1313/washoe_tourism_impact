{
 "cells": [
  {
   "cell_type": "code",
   "execution_count": 1,
   "id": "535866e0-34bd-4313-9fdd-4b97392cd1d4",
   "metadata": {},
   "outputs": [],
   "source": [
    "import pandas as pd\n",
    "import matplotlib.pyplot as plt\n",
    "import numpy as np"
   ]
  },
  {
   "cell_type": "code",
   "execution_count": 2,
   "id": "ebb8359c-5d0b-45d9-8211-5420df5b1490",
   "metadata": {},
   "outputs": [],
   "source": [
    "df = pd.read_csv('indicator_data_download_20250626.csv')"
   ]
  },
  {
   "cell_type": "code",
   "execution_count": 3,
   "id": "1cec5cb8-0579-4a0e-ac4c-2fd12bcb6022",
   "metadata": {},
   "outputs": [
    {
     "data": {
      "text/html": [
       "<div>\n",
       "<style scoped>\n",
       "    .dataframe tbody tr th:only-of-type {\n",
       "        vertical-align: middle;\n",
       "    }\n",
       "\n",
       "    .dataframe tbody tr th {\n",
       "        vertical-align: top;\n",
       "    }\n",
       "\n",
       "    .dataframe thead th {\n",
       "        text-align: right;\n",
       "    }\n",
       "</style>\n",
       "<table border=\"1\" class=\"dataframe\">\n",
       "  <thead>\n",
       "    <tr style=\"text-align: right;\">\n",
       "      <th></th>\n",
       "      <th>Indicator Name</th>\n",
       "      <th>What Is This Indicator</th>\n",
       "      <th>Location Type</th>\n",
       "      <th>Location</th>\n",
       "      <th>Indicator Rate Value</th>\n",
       "      <th>Indicator Rate Value Units</th>\n",
       "      <th>Rate Lower Confidence Interval</th>\n",
       "      <th>Rate Upper Confidence Interval</th>\n",
       "      <th>Indicator Count Value</th>\n",
       "      <th>Indicator Count Value Units</th>\n",
       "      <th>...</th>\n",
       "      <th>Breakout Rate Value</th>\n",
       "      <th>Breakout Rate Value Units</th>\n",
       "      <th>Breakout Rate Lower Confidence Interval</th>\n",
       "      <th>Breakout Rate Upper Confidence Interval</th>\n",
       "      <th>Breakout Count Value</th>\n",
       "      <th>Breakout Count Value Units</th>\n",
       "      <th>Breakout Count Lower Confidence Interval</th>\n",
       "      <th>Breakout Count Upper Confidence Interval</th>\n",
       "      <th>Breakout Unstable</th>\n",
       "      <th>Breakout Footer</th>\n",
       "    </tr>\n",
       "  </thead>\n",
       "  <tbody>\n",
       "    <tr>\n",
       "      <th>0</th>\n",
       "      <td>Tourism Economic Impact</td>\n",
       "      <td>The economic impact of visitor spending activi...</td>\n",
       "      <td>County</td>\n",
       "      <td>Washoe</td>\n",
       "      <td>3325.1</td>\n",
       "      <td>Million Dollars</td>\n",
       "      <td>NaN</td>\n",
       "      <td>NaN</td>\n",
       "      <td>NaN</td>\n",
       "      <td>NaN</td>\n",
       "      <td>...</td>\n",
       "      <td>556.7</td>\n",
       "      <td>Million Dollars</td>\n",
       "      <td>NaN</td>\n",
       "      <td>NaN</td>\n",
       "      <td>NaN</td>\n",
       "      <td>NaN</td>\n",
       "      <td>NaN</td>\n",
       "      <td>NaN</td>\n",
       "      <td>No</td>\n",
       "      <td>NaN</td>\n",
       "    </tr>\n",
       "    <tr>\n",
       "      <th>1</th>\n",
       "      <td>Tourism Economic Impact</td>\n",
       "      <td>The economic impact of visitor spending activi...</td>\n",
       "      <td>County</td>\n",
       "      <td>Washoe</td>\n",
       "      <td>3325.1</td>\n",
       "      <td>Million Dollars</td>\n",
       "      <td>NaN</td>\n",
       "      <td>NaN</td>\n",
       "      <td>NaN</td>\n",
       "      <td>NaN</td>\n",
       "      <td>...</td>\n",
       "      <td>717.1</td>\n",
       "      <td>Million Dollars</td>\n",
       "      <td>NaN</td>\n",
       "      <td>NaN</td>\n",
       "      <td>NaN</td>\n",
       "      <td>NaN</td>\n",
       "      <td>NaN</td>\n",
       "      <td>NaN</td>\n",
       "      <td>No</td>\n",
       "      <td>NaN</td>\n",
       "    </tr>\n",
       "    <tr>\n",
       "      <th>2</th>\n",
       "      <td>Tourism Economic Impact</td>\n",
       "      <td>The economic impact of visitor spending activi...</td>\n",
       "      <td>County</td>\n",
       "      <td>Washoe</td>\n",
       "      <td>3325.1</td>\n",
       "      <td>Million Dollars</td>\n",
       "      <td>NaN</td>\n",
       "      <td>NaN</td>\n",
       "      <td>NaN</td>\n",
       "      <td>NaN</td>\n",
       "      <td>...</td>\n",
       "      <td>550.0</td>\n",
       "      <td>Million Dollars</td>\n",
       "      <td>NaN</td>\n",
       "      <td>NaN</td>\n",
       "      <td>NaN</td>\n",
       "      <td>NaN</td>\n",
       "      <td>NaN</td>\n",
       "      <td>NaN</td>\n",
       "      <td>No</td>\n",
       "      <td>NaN</td>\n",
       "    </tr>\n",
       "    <tr>\n",
       "      <th>3</th>\n",
       "      <td>Tourism Economic Impact</td>\n",
       "      <td>The economic impact of visitor spending activi...</td>\n",
       "      <td>County</td>\n",
       "      <td>Washoe</td>\n",
       "      <td>3325.1</td>\n",
       "      <td>Million Dollars</td>\n",
       "      <td>NaN</td>\n",
       "      <td>NaN</td>\n",
       "      <td>NaN</td>\n",
       "      <td>NaN</td>\n",
       "      <td>...</td>\n",
       "      <td>497.5</td>\n",
       "      <td>Million Dollars</td>\n",
       "      <td>NaN</td>\n",
       "      <td>NaN</td>\n",
       "      <td>NaN</td>\n",
       "      <td>NaN</td>\n",
       "      <td>NaN</td>\n",
       "      <td>NaN</td>\n",
       "      <td>No</td>\n",
       "      <td>NaN</td>\n",
       "    </tr>\n",
       "    <tr>\n",
       "      <th>4</th>\n",
       "      <td>Tourism Economic Impact</td>\n",
       "      <td>The economic impact of visitor spending activi...</td>\n",
       "      <td>County</td>\n",
       "      <td>Washoe</td>\n",
       "      <td>3325.1</td>\n",
       "      <td>Million Dollars</td>\n",
       "      <td>NaN</td>\n",
       "      <td>NaN</td>\n",
       "      <td>NaN</td>\n",
       "      <td>NaN</td>\n",
       "      <td>...</td>\n",
       "      <td>616.2</td>\n",
       "      <td>Million Dollars</td>\n",
       "      <td>NaN</td>\n",
       "      <td>NaN</td>\n",
       "      <td>NaN</td>\n",
       "      <td>NaN</td>\n",
       "      <td>NaN</td>\n",
       "      <td>NaN</td>\n",
       "      <td>No</td>\n",
       "      <td>NaN</td>\n",
       "    </tr>\n",
       "  </tbody>\n",
       "</table>\n",
       "<p>5 rows × 29 columns</p>\n",
       "</div>"
      ],
      "text/plain": [
       "            Indicator Name                             What Is This Indicator  \\\n",
       "0  Tourism Economic Impact  The economic impact of visitor spending activi...   \n",
       "1  Tourism Economic Impact  The economic impact of visitor spending activi...   \n",
       "2  Tourism Economic Impact  The economic impact of visitor spending activi...   \n",
       "3  Tourism Economic Impact  The economic impact of visitor spending activi...   \n",
       "4  Tourism Economic Impact  The economic impact of visitor spending activi...   \n",
       "\n",
       "  Location Type Location  Indicator Rate Value Indicator Rate Value Units  \\\n",
       "0        County   Washoe                3325.1            Million Dollars   \n",
       "1        County   Washoe                3325.1            Million Dollars   \n",
       "2        County   Washoe                3325.1            Million Dollars   \n",
       "3        County   Washoe                3325.1            Million Dollars   \n",
       "4        County   Washoe                3325.1            Million Dollars   \n",
       "\n",
       "   Rate Lower Confidence Interval  Rate Upper Confidence Interval  \\\n",
       "0                             NaN                             NaN   \n",
       "1                             NaN                             NaN   \n",
       "2                             NaN                             NaN   \n",
       "3                             NaN                             NaN   \n",
       "4                             NaN                             NaN   \n",
       "\n",
       "   Indicator Count Value  Indicator Count Value Units  ...  \\\n",
       "0                    NaN                          NaN  ...   \n",
       "1                    NaN                          NaN  ...   \n",
       "2                    NaN                          NaN  ...   \n",
       "3                    NaN                          NaN  ...   \n",
       "4                    NaN                          NaN  ...   \n",
       "\n",
       "   Breakout Rate Value  Breakout Rate Value Units  \\\n",
       "0                556.7            Million Dollars   \n",
       "1                717.1            Million Dollars   \n",
       "2                550.0            Million Dollars   \n",
       "3                497.5            Million Dollars   \n",
       "4                616.2            Million Dollars   \n",
       "\n",
       "  Breakout Rate Lower Confidence Interval  \\\n",
       "0                                     NaN   \n",
       "1                                     NaN   \n",
       "2                                     NaN   \n",
       "3                                     NaN   \n",
       "4                                     NaN   \n",
       "\n",
       "   Breakout Rate Upper Confidence Interval Breakout Count Value  \\\n",
       "0                                      NaN                  NaN   \n",
       "1                                      NaN                  NaN   \n",
       "2                                      NaN                  NaN   \n",
       "3                                      NaN                  NaN   \n",
       "4                                      NaN                  NaN   \n",
       "\n",
       "  Breakout Count Value Units Breakout Count Lower Confidence Interval  \\\n",
       "0                        NaN                                      NaN   \n",
       "1                        NaN                                      NaN   \n",
       "2                        NaN                                      NaN   \n",
       "3                        NaN                                      NaN   \n",
       "4                        NaN                                      NaN   \n",
       "\n",
       "  Breakout Count Upper Confidence Interval Breakout Unstable  Breakout Footer  \n",
       "0                                      NaN                No              NaN  \n",
       "1                                      NaN                No              NaN  \n",
       "2                                      NaN                No              NaN  \n",
       "3                                      NaN                No              NaN  \n",
       "4                                      NaN                No              NaN  \n",
       "\n",
       "[5 rows x 29 columns]"
      ]
     },
     "execution_count": 3,
     "metadata": {},
     "output_type": "execute_result"
    }
   ],
   "source": [
    "df.head()"
   ]
  },
  {
   "cell_type": "code",
   "execution_count": 4,
   "id": "38d6c01f-0a23-4505-9bb8-c8f0ba912eb9",
   "metadata": {},
   "outputs": [
    {
     "name": "stdout",
     "output_type": "stream",
     "text": [
      "<class 'pandas.core.frame.DataFrame'>\n",
      "RangeIndex: 25 entries, 0 to 24\n",
      "Data columns (total 29 columns):\n",
      " #   Column                                    Non-Null Count  Dtype  \n",
      "---  ------                                    --------------  -----  \n",
      " 0   Indicator Name                            25 non-null     object \n",
      " 1   What Is This Indicator                    25 non-null     object \n",
      " 2   Location Type                             25 non-null     object \n",
      " 3   Location                                  25 non-null     object \n",
      " 4   Indicator Rate Value                      25 non-null     float64\n",
      " 5   Indicator Rate Value Units                25 non-null     object \n",
      " 6   Rate Lower Confidence Interval            0 non-null      float64\n",
      " 7   Rate Upper Confidence Interval            0 non-null      float64\n",
      " 8   Indicator Count Value                     0 non-null      float64\n",
      " 9   Indicator Count Value Units               0 non-null      float64\n",
      " 10  Count Lower Confidence Interval           0 non-null      float64\n",
      " 11  Count Upper Confidence Interval           0 non-null      float64\n",
      " 12  Indicator Value Unstable                  25 non-null     object \n",
      " 13  Period of Measure                         25 non-null     int64  \n",
      " 14  Data Source                               25 non-null     object \n",
      " 15  Technical Note                            25 non-null     object \n",
      " 16  Breakout Title                            18 non-null     object \n",
      " 17  Breakout Category                         18 non-null     object \n",
      " 18  Breakout Subcategory                      18 non-null     object \n",
      " 19  Breakout Rate Value                       18 non-null     float64\n",
      " 20  Breakout Rate Value Units                 18 non-null     object \n",
      " 21  Breakout Rate Lower Confidence Interval   0 non-null      float64\n",
      " 22  Breakout Rate Upper Confidence Interval   0 non-null      float64\n",
      " 23  Breakout Count Value                      0 non-null      float64\n",
      " 24  Breakout Count Value Units                0 non-null      float64\n",
      " 25  Breakout Count Lower Confidence Interval  0 non-null      float64\n",
      " 26  Breakout Count Upper Confidence Interval  0 non-null      float64\n",
      " 27  Breakout Unstable                         18 non-null     object \n",
      " 28  Breakout Footer                           0 non-null      float64\n",
      "dtypes: float64(15), int64(1), object(13)\n",
      "memory usage: 5.8+ KB\n"
     ]
    }
   ],
   "source": [
    "df.info()"
   ]
  },
  {
   "cell_type": "code",
   "execution_count": 5,
   "id": "d2405ce0-bca2-4162-bb18-e3cca18b5502",
   "metadata": {},
   "outputs": [
    {
     "data": {
      "text/plain": [
       "Indicator Name\n",
       "Tourism Economic Impact    25\n",
       "Name: count, dtype: int64"
      ]
     },
     "execution_count": 5,
     "metadata": {},
     "output_type": "execute_result"
    }
   ],
   "source": [
    "df['Indicator Name'].value_counts()"
   ]
  },
  {
   "cell_type": "code",
   "execution_count": 6,
   "id": "9cf5e22e-b369-4aac-8e9a-9723ff947172",
   "metadata": {},
   "outputs": [
    {
     "data": {
      "text/plain": [
       "Indicator Rate Value Units\n",
       "Million Dollars    25\n",
       "Name: count, dtype: int64"
      ]
     },
     "execution_count": 6,
     "metadata": {},
     "output_type": "execute_result"
    }
   ],
   "source": [
    "df['Indicator Rate Value Units'].value_counts()"
   ]
  },
  {
   "cell_type": "code",
   "execution_count": 7,
   "id": "47c1e04f-04d5-4d43-97ab-d9dbcca162f9",
   "metadata": {},
   "outputs": [
    {
     "data": {
      "text/plain": [
       "0    Food & beverage\n",
       "1             Gaming\n",
       "2            Lodging\n",
       "3         Recreation\n",
       "4             Retail\n",
       "Name: Breakout Subcategory, dtype: object"
      ]
     },
     "execution_count": 7,
     "metadata": {},
     "output_type": "execute_result"
    }
   ],
   "source": [
    "df['Breakout Subcategory'].head()"
   ]
  },
  {
   "cell_type": "code",
   "execution_count": 8,
   "id": "0f984397-ac6a-41c2-a15b-72227da9752d",
   "metadata": {},
   "outputs": [
    {
     "data": {
      "text/plain": [
       "Period of Measure\n",
       "2023    6\n",
       "2022    6\n",
       "2021    6\n",
       "2020    1\n",
       "2019    1\n",
       "2018    1\n",
       "2017    1\n",
       "2016    1\n",
       "2015    1\n",
       "2014    1\n",
       "Name: count, dtype: int64"
      ]
     },
     "execution_count": 8,
     "metadata": {},
     "output_type": "execute_result"
    }
   ],
   "source": [
    "df['Period of Measure'].value_counts()"
   ]
  },
  {
   "cell_type": "code",
   "execution_count": 19,
   "id": "3658f00c-b4db-44de-9a5c-2e68fceb7733",
   "metadata": {},
   "outputs": [],
   "source": [
    "totals_by_year = {}\n",
    "\n",
    "for ind, row in df.iterrows():\n",
    "    year = row['Period of Measure']\n",
    "    value = row['Indicator Rate Value']\n",
    "\n",
    "    if year in totals_by_year:\n",
    "        totals_by_year[year] += value\n",
    "    else:\n",
    "        totals_by_year[year] = value\n",
    "\n",
    "yearly_totals = pd.DataFrame(list(totals_by_year.items()), columns = ['year', 'value'])"
   ]
  },
  {
   "cell_type": "code",
   "execution_count": 23,
   "id": "825863da-60c0-45ab-8647-6a97ea3d39e3",
   "metadata": {},
   "outputs": [
    {
     "data": {
      "text/html": [
       "<div>\n",
       "<style scoped>\n",
       "    .dataframe tbody tr th:only-of-type {\n",
       "        vertical-align: middle;\n",
       "    }\n",
       "\n",
       "    .dataframe tbody tr th {\n",
       "        vertical-align: top;\n",
       "    }\n",
       "\n",
       "    .dataframe thead th {\n",
       "        text-align: right;\n",
       "    }\n",
       "</style>\n",
       "<table border=\"1\" class=\"dataframe\">\n",
       "  <thead>\n",
       "    <tr style=\"text-align: right;\">\n",
       "      <th></th>\n",
       "      <th>year</th>\n",
       "      <th>value</th>\n",
       "    </tr>\n",
       "  </thead>\n",
       "  <tbody>\n",
       "    <tr>\n",
       "      <th>9</th>\n",
       "      <td>2014</td>\n",
       "      <td>2428.4</td>\n",
       "    </tr>\n",
       "    <tr>\n",
       "      <th>8</th>\n",
       "      <td>2015</td>\n",
       "      <td>2547.6</td>\n",
       "    </tr>\n",
       "    <tr>\n",
       "      <th>7</th>\n",
       "      <td>2016</td>\n",
       "      <td>2662.2</td>\n",
       "    </tr>\n",
       "    <tr>\n",
       "      <th>6</th>\n",
       "      <td>2017</td>\n",
       "      <td>2747.6</td>\n",
       "    </tr>\n",
       "    <tr>\n",
       "      <th>5</th>\n",
       "      <td>2018</td>\n",
       "      <td>2831.4</td>\n",
       "    </tr>\n",
       "    <tr>\n",
       "      <th>4</th>\n",
       "      <td>2019</td>\n",
       "      <td>2925.5</td>\n",
       "    </tr>\n",
       "    <tr>\n",
       "      <th>3</th>\n",
       "      <td>2020</td>\n",
       "      <td>1919.1</td>\n",
       "    </tr>\n",
       "    <tr>\n",
       "      <th>2</th>\n",
       "      <td>2021</td>\n",
       "      <td>17032.8</td>\n",
       "    </tr>\n",
       "    <tr>\n",
       "      <th>1</th>\n",
       "      <td>2022</td>\n",
       "      <td>18787.2</td>\n",
       "    </tr>\n",
       "    <tr>\n",
       "      <th>0</th>\n",
       "      <td>2023</td>\n",
       "      <td>19950.6</td>\n",
       "    </tr>\n",
       "  </tbody>\n",
       "</table>\n",
       "</div>"
      ],
      "text/plain": [
       "   year    value\n",
       "9  2014   2428.4\n",
       "8  2015   2547.6\n",
       "7  2016   2662.2\n",
       "6  2017   2747.6\n",
       "5  2018   2831.4\n",
       "4  2019   2925.5\n",
       "3  2020   1919.1\n",
       "2  2021  17032.8\n",
       "1  2022  18787.2\n",
       "0  2023  19950.6"
      ]
     },
     "execution_count": 23,
     "metadata": {},
     "output_type": "execute_result"
    }
   ],
   "source": [
    "yearly_totals = yearly_totals.sort_values(by = 'year', ascending = True)\n",
    "yearly_totals"
   ]
  },
  {
   "cell_type": "code",
   "execution_count": 32,
   "id": "d356df80-b0b5-4297-ba70-99c694ee60ce",
   "metadata": {},
   "outputs": [
    {
     "data": {
      "image/png": "[encoded data removed]",
      "text/plain": [
       "<Figure size 640x480 with 1 Axes>"
      ]
     },
     "metadata": {},
     "output_type": "display_data"
    }
   ],
   "source": [
    "fig, ax = plt.subplots()\n",
    "\n",
    "yearly_totals.plot(x = 'year', y = 'value', kind = 'bar', ax = ax)\n",
    "\n",
    "ax.get_yaxis().set_major_formatter(\n",
    "    plt.FuncFormatter(lambda x, p: format(int(x), ','))) # format labels\n",
    "\n",
    "ax.set_title('Spending per Year')\n",
    "ax.set_ylabel('Value in Millions')\n",
    "plt.show();"
   ]
  },
  {
   "cell_type": "code",
   "execution_count": null,
   "id": "bb510340-ae15-4974-9b56-aa1cd34b9465",
   "metadata": {},
   "outputs": [],
   "source": []
  }
 ],
 "metadata": {
  "kernelspec": {
   "display_name": "Python 3 (ipykernel)",
   "language": "python",
   "name": "python3"
  },
  "language_info": {
   "codemirror_mode": {
    "name": "ipython",
    "version": 3
   },
   "file_extension": ".py",
   "mimetype": "text/x-python",
   "name": "python",
   "nbconvert_exporter": "python",
   "pygments_lexer": "ipython3",
   "version": "3.12.7"
  }
 },
 "nbformat": 4,
 "nbformat_minor": 5
}
